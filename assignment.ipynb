{
 "cells": [
  {
   "cell_type": "markdown",
   "metadata": {},
   "source": []
  },
  {
   "cell_type": "code",
   "execution_count": null,
   "metadata": {},
   "outputs": [],
   "source": [
    "import pandas as pd\n",
    "\n",
    "df.head()\n",
    "X1= df[\"X\"].values.tolist()\n",
    "X2= df[\"Y\"].values.tolist()\n",
    "Y= df[\"L\"].values.tolist()"
   ]
  },
  {
   "cell_type": "code",
   "execution_count": null,
   "metadata": {},
   "outputs": [],
   "source": [
    "import matplotlib.pyplot as plt\n",
    "plt.figure()\n",
    "for i in range (len(Y)):\n",
    "    if Y[i]==0:\n",
    "pH.plot(X1[i],X2[i],\"rd\")\n",
    "else:\n",
    "pH.plot(X1[i],X2[i],\"b+\")\n",
    "pH.show()\n"
   ]
  },
  {
   "cell_type": "code",
   "execution_count": null,
   "metadata": {},
   "outputs": [],
   "source": [
    "import random\n",
    "import display\n",
    "import math\n",
    "\n",
    "w=[random.random(),random.random()]\n",
    "b=random.random()\n",
    "lr=0.1\n",
    "epoch=0\n",
    "count=0\n",
    "theta=0.5\n",
    "loss=[]\n",
    "while count <len(Y):\n",
    "    total_error=0\n",
    "    for i in range (len(Y)):\n",
    "        ws=w[0]*X1+w[1]*X2[i]+b\n",
    "        pred=0\n",
    "        if ws> theta:\n",
    "            pred=1\n",
    "            error=Y[i]-pred\n",
    "            if error !=0:\n",
    "                count=0\n",
    "                total_error +=math.sqrt(error**2)\n",
    "                w[0]+= error*X1[i]*lr\n",
    "                w[1]+= error*X2[i]*lr\n",
    "                b+= error*lr\n",
    "            else:\n",
    "                count +=1\n",
    "                loss.append(total error)\n",
    "\n",
    "                plt.figure()\n",
    "                display.clear_output(wait=true)\n",
    "                plt.subplot(1,2,1)\n",
    "                for i in range(len(Y)):\n",
    "                    if Y[i]==0:\n",
    "                        pH.plot(X1[i],X2[i],\"rd\")\n",
    "                    else:\n",
    "                        pH.plot(X1[i],X2[i],\"b+\")\n",
    "                        pH.xlim([-10,110])\n",
    "                        pH.ylim([-10,110])\n",
    "                        pH.title(f\"Epoch:{epoch}\")\n",
    "                        xintr =(theta-b)/w[0]\n",
    "                        yintr =(theta-b)/w[1]\n",
    "                        slope= -yintr/xintr\n",
    "                        xx=pH.xlim()\n",
    "                        yeq=[]\n",
    "                        for x in xx:\n",
    "                            yeq.append(slope*x+yintr)\n",
    "                            pH.plot(xx,yeq,'r-')\n",
    "                            pH.subplot(1,2,2)\n",
    "                            pH.plot(loss)\n",
    "                            pH.show()\n",
    "                            epoch+=1\n",
    "\n",
    "\n",
    "\n"
   ]
  }
 ],
 "metadata": {
  "kernelspec": {
   "display_name": "base",
   "language": "python",
   "name": "python3"
  },
  "language_info": {
   "codemirror_mode": {
    "name": "ipython",
    "version": 3
   },
   "file_extension": ".py",
   "mimetype": "text/x-python",
   "name": "python",
   "nbconvert_exporter": "python",
   "pygments_lexer": "ipython3",
   "version": "3.10.9"
  },
  "orig_nbformat": 4
 },
 "nbformat": 4,
 "nbformat_minor": 2
}
