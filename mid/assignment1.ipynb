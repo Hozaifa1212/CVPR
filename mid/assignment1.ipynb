{
 "cells": [
  {
   "cell_type": "code",
   "execution_count": null,
   "metadata": {},
   "outputs": [],
   "source": [
    "import pandas as pd\n",
    "import numpy as np\n",
    "import os\n",
    "import random\n",
    "import cv2\n",
    "from tqdm import tqdm\n",
    "import matplotlib.pyplot as plt"
   ]
  },
  {
   "cell_type": "code",
   "execution_count": null,
   "metadata": {},
   "outputs": [],
   "source": [
    "train_directory = 'D:/Assignment/CIFAR-10-images-master/train'\n",
    "catagories = []\n",
    "for c in os.listdir(train_directory):\n",
    "    catagories.append(c)\n",
    "print(catagories)"
   ]
  },
  {
   "cell_type": "code",
   "execution_count": null,
   "metadata": {},
   "outputs": [],
   "source": [
    "train_Data = []\n",
    "for c in catagories:\n",
    "    path = os.path.join(train_directory,c)\n",
    "    class_num = catagories.index(c)\n",
    "    for img in tqdm(os.listdir(path)):\n",
    "        img_arr = cv2.imread(os.path.join(path,img))\n",
    "        train_Data.append([img_arr, class_num])\n",
    "print(len(train_Data))"
   ]
  },
  {
   "cell_type": "code",
   "execution_count": null,
   "metadata": {},
   "outputs": [],
   "source": [
    "random.shuffle(train_Data)\n",
    "plt.figure(figsize=(20,10))\n",
    "\n",
    "for i in range(50):\n",
    "    plt.subplot(5,10,i+1)\n",
    "    plt.imshow(train_Data[i][0])\n",
    "    plt.xlabel(catagories[train_Data[i][1]])\n",
    "    plt.xticks([])\n",
    "    plt.yticks([])\n",
    "    if i==50:\n",
    "        break\n",
    "plt.show()"
   ]
  },
  {
   "cell_type": "code",
   "execution_count": null,
   "metadata": {},
   "outputs": [],
   "source": [
    "f0 = train_Data[0:1000]\n",
    "f1 = train_Data[1000:2000]\n",
    "f2 = train_Data[2000:3000]\n",
    "f3 = train_Data[3000:4000]\n",
    "f4 = train_Data[4000:5000]"
   ]
  },
  {
   "cell_type": "code",
   "execution_count": null,
   "metadata": {},
   "outputs": [],
   "source": [
    "class NearestNeighbourClassifier():\n",
    "\n",
    "    def __init__(self,k,distancemetric=\"l2\"):\n",
    "        self.K = k\n",
    "        self.trainSet = None\n",
    "        self.distanceMetric = distancemetric.lower()\n",
    "\n",
    "    def fit(self,train):\n",
    "        self.trainSet = train\n",
    "\n",
    "\n",
    "    def __L2_distance(self, train_img,test_img):\n",
    "        temp = train_img - test_img\n",
    "        dis = np.sqrt(np.sum(np.square(temp)))\n",
    "        return dis\n",
    "\n",
    "    def __distanceCalculator(self,validate):\n",
    "        accuracy = 0\n",
    "        for vidx in range(len(validate)):\n",
    "            distnaceList = []\n",
    "            cnt = 0\n",
    "            for tidx in range(len(self.trainSet)):\n",
    "                d = 0\n",
    "                if self.distanceMetric == 'l2':\n",
    "                    d = self.__L2_distance(self.trainSet[tidx][0],validate[vidx][0])\n",
    "                distnaceList.append((d,self.trainSet[tidx][1]))\n",
    "\n",
    "            distnaceList.sort(key=(lambda a: a[0]))\n",
    "            labels = [v[1] for v in distnaceList[:self.K]]\n",
    "            label = max(set(labels), key = labels.count)\n",
    "\n",
    "            if label == validate[vidx][1]:\n",
    "                cnt+=1\n",
    "\n",
    "            accuracy += cnt\n",
    "        return accuracy, (accuracy/len(validate))\n",
    "\n",
    "    def predict(self,validate):\n",
    "        return self.__distanceCalculator(validate)\n",
    "\n",
    "    def plot_Accuracies(fold,k_choices,accuracies):\n",
    "    best = [0,0]\n",
    "    for k in k_choices:\n",
    "        acc = accuracies[k]\n",
    "        if best[1]< max(acc):\n",
    "            best[0]=k\n",
    "            best[1]=max(acc)\n",
    "        plt.scatter([k] * len(acc), acc)\n",
    "\n",
    "\n",
    "    accuracies_mean = np.array([np.mean(v) for k,v in sorted(accuracies.items())])\n",
    "    accuracies_std = np.array([np.std(v) for k,v in sorted(accuracies.items())])\n",
    "    plt.errorbar(k_choices, accuracies_mean, yerr=accuracies_std)\n",
    "    plt.title(f\"Cross-validation   fold={fold}   K={best[0]}   Accuracy = {best[1]}\")\n",
    "    plt.xlabel('k')\n",
    "    plt.ylabel('Accuracy')\n",
    "    plt.show()"
   ]
  },
  {
   "cell_type": "code",
   "execution_count": null,
   "metadata": {},
   "outputs": [],
   "source": [
    "k_choices = [3, 5, 8, 10, 12, 15, 20]"
   ]
  },
  {
   "cell_type": "code",
   "execution_count": null,
   "metadata": {},
   "outputs": [],
   "source": [
    "accuracis = {}\n",
    "nfolds = 5\n",
    "for k in k_choices:\n",
    "    accuracis[k]=[]\n",
    "for i in range(nfolds):\n",
    "    if i==0:\n",
    "        trainSet = f1+f2+f3+f4\n",
    "        validate = f0\n",
    "    elif i==1:\n",
    "        trainSet = f0+f2+f3+f4\n",
    "        validate = f1\n",
    "    elif i==2:\n",
    "        trainSet = f1+f0+f3+f4\n",
    "        validate = f2\n",
    "    elif i==3:\n",
    "        trainSet = f1+f2+f0+f4\n",
    "        validate = f3\n",
    "    elif i==4:\n",
    "        trainSet = f1+f2+f3+f0\n",
    "        validate = f4\n",
    "\n",
    "    for k in k_choices:\n",
    "\n",
    "        classifier = NearestNeighbourClassifier(k,'l2')\n",
    "        classifier.fit(trainSet)\n",
    "        cnt, acc = classifier.predict(validate)\n",
    "\n",
    "        accuracis[k].append(acc)"
   ]
  },
  {
   "cell_type": "code",
   "execution_count": null,
   "metadata": {},
   "outputs": [],
   "source": [
    "plot_Accuracies(5,k_choices,accuracis)"
   ]
  }
 ],
 "metadata": {
  "kernelspec": {
   "display_name": "base",
   "language": "python",
   "name": "python3"
  },
  "language_info": {
   "codemirror_mode": {
    "name": "ipython",
    "version": 3
   },
   "file_extension": ".py",
   "mimetype": "text/x-python",
   "name": "python",
   "nbconvert_exporter": "python",
   "pygments_lexer": "ipython3",
   "version": "3.10.9"
  },
  "orig_nbformat": 4
 },
 "nbformat": 4,
 "nbformat_minor": 2
}
